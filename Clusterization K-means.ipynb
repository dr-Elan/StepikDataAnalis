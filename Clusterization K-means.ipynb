{
 "cells": [
  {
   "cell_type": "markdown",
   "id": "f5a7f87a",
   "metadata": {},
   "source": [
    "# Кластеризация в Python: метод  k-средних"
   ]
  },
  {
   "cell_type": "code",
   "execution_count": 1,
   "id": "ba60f22f",
   "metadata": {
    "scrolled": true
   },
   "outputs": [],
   "source": [
    "import pandas as pd\n",
    "import numpy as np\n",
    "from sklearn.decomposition import PCA # Метод главных компонент\n",
    "from sklearn import preprocessing  # функция для предварительной обработки данных\n",
    "from sklearn.cluster import KMeans # Кластеризация методом k-средних\n",
    "from sklearn.metrics import silhouette_score # Метрика силуэта\n",
    "import matplotlib.pyplot as plt  #импотируем подбиблиотеку и даем ей имя\n",
    "import matplotlib    # для рисования\n",
    "df = pd.read_csv('https://raw.githubusercontent.com/artamonoff/Econometrica/master/python-notebooks/data-csv/Labour.csv')"
   ]
  },
  {
   "cell_type": "markdown",
   "id": "a25aace3",
   "metadata": {},
   "source": [
    "Основные переменныя в датафрейме `df` (данные по бельгийским фирмам за 1996 г.)\n",
    "- `capital`:капитал (в млн евро)\n",
    "- `labour`: число сотрудников\n",
    "- `output`: выпуск (в млн евро)\n",
    "- `wage`: зарплата на одного сотрудника (в тыс евро)"
   ]
  },
  {
   "cell_type": "code",
   "execution_count": 2,
   "id": "3f2292fb",
   "metadata": {},
   "outputs": [
    {
     "data": {
      "text/html": [
       "<div>\n",
       "<style scoped>\n",
       "    .dataframe tbody tr th:only-of-type {\n",
       "        vertical-align: middle;\n",
       "    }\n",
       "\n",
       "    .dataframe tbody tr th {\n",
       "        vertical-align: top;\n",
       "    }\n",
       "\n",
       "    .dataframe thead th {\n",
       "        text-align: right;\n",
       "    }\n",
       "</style>\n",
       "<table border=\"1\" class=\"dataframe\">\n",
       "  <thead>\n",
       "    <tr style=\"text-align: right;\">\n",
       "      <th></th>\n",
       "      <th>capital</th>\n",
       "      <th>labour</th>\n",
       "      <th>output</th>\n",
       "      <th>wage</th>\n",
       "    </tr>\n",
       "  </thead>\n",
       "  <tbody>\n",
       "    <tr>\n",
       "      <th>0</th>\n",
       "      <td>2.606563</td>\n",
       "      <td>184</td>\n",
       "      <td>9.250759</td>\n",
       "      <td>43.080307</td>\n",
       "    </tr>\n",
       "    <tr>\n",
       "      <th>1</th>\n",
       "      <td>1.323237</td>\n",
       "      <td>91</td>\n",
       "      <td>3.664310</td>\n",
       "      <td>27.780016</td>\n",
       "    </tr>\n",
       "    <tr>\n",
       "      <th>2</th>\n",
       "      <td>22.093692</td>\n",
       "      <td>426</td>\n",
       "      <td>28.781516</td>\n",
       "      <td>44.467748</td>\n",
       "    </tr>\n",
       "    <tr>\n",
       "      <th>3</th>\n",
       "      <td>10.737851</td>\n",
       "      <td>72</td>\n",
       "      <td>4.124642</td>\n",
       "      <td>39.734710</td>\n",
       "    </tr>\n",
       "    <tr>\n",
       "      <th>4</th>\n",
       "      <td>1.161365</td>\n",
       "      <td>46</td>\n",
       "      <td>2.890150</td>\n",
       "      <td>34.650709</td>\n",
       "    </tr>\n",
       "    <tr>\n",
       "      <th>5</th>\n",
       "      <td>276.796701</td>\n",
       "      <td>7642</td>\n",
       "      <td>480.140372</td>\n",
       "      <td>48.939782</td>\n",
       "    </tr>\n",
       "  </tbody>\n",
       "</table>\n",
       "</div>"
      ],
      "text/plain": [
       "      capital  labour      output       wage\n",
       "0    2.606563     184    9.250759  43.080307\n",
       "1    1.323237      91    3.664310  27.780016\n",
       "2   22.093692     426   28.781516  44.467748\n",
       "3   10.737851      72    4.124642  39.734710\n",
       "4    1.161365      46    2.890150  34.650709\n",
       "5  276.796701    7642  480.140372  48.939782"
      ]
     },
     "execution_count": 2,
     "metadata": {},
     "output_type": "execute_result"
    }
   ],
   "source": [
    "df.head(n=6)"
   ]
  },
  {
   "cell_type": "code",
   "execution_count": 6,
   "id": "4b1aa9c0",
   "metadata": {},
   "outputs": [],
   "source": [
    "# Нормализация данных\n",
    "scaler=preprocessing.StandardScaler().fit(df)  # специфицируем нормализацию данных\n",
    "data_rescaled=scaler.transform(df)  # применяем эту нормализацию к исходному датасету "
   ]
  },
  {
   "cell_type": "markdown",
   "id": "bd253ad4",
   "metadata": {},
   "source": [
    "## Метод k-средних (заданное число кластеров)\n",
    "Вначале разобьём датасет на заданное число кластеров (например, на 3)"
   ]
  },
  {
   "cell_type": "code",
   "execution_count": null,
   "id": "d8f21150",
   "metadata": {},
   "outputs": [],
   "source": [
    "# Создаём объект класса KMeans с нужными параметрами\n",
    "kmeans = KMeans(init=\"random\", n_clusters=3)\n",
    "# применяем метод .fit() для кластеризации данных\n",
    "kmeans.fit(data_rescaled)\n",
    "# кластерная переменная \n",
    "print(kmeans.labels_)"
   ]
  },
  {
   "cell_type": "code",
   "execution_count": null,
   "id": "aea326d7",
   "metadata": {},
   "outputs": [],
   "source": [
    "# визуализируем в исходных переменных\n",
    "df.plot.scatter('labour', 'output', c=kmeans.labels_, colormap='viridis')"
   ]
  },
  {
   "cell_type": "code",
   "execution_count": null,
   "id": "2cb879b7",
   "metadata": {},
   "outputs": [],
   "source": [
    "# Визуализация в главных компонентых\n",
    "pca=PCA(n_components=2)\n",
    "pca.fit(data_rescaled)\n",
    "data_pca = pca.transform(data_rescaled)\n",
    "df_pca = pd.DataFrame(data=data_pca, columns = ['principal component 1', 'principal component 2'])\n",
    "df_pca.plot.scatter('principal component 1', 'principal component 2', c=kmeans.labels_, colormap='viridis')"
   ]
  },
  {
   "cell_type": "markdown",
   "id": "2d5a3933",
   "metadata": {},
   "source": [
    "## Метод k-средних: выбор числа кластеров\n",
    "Метод силуэта"
   ]
  },
  {
   "cell_type": "code",
   "execution_count": null,
   "id": "d9236021",
   "metadata": {},
   "outputs": [],
   "source": [
    "Silhouette_measure = []  # создаем массив длины 0\n",
    "K = range(2,10)          #какие значения  k рассматриваеются\n",
    "for num_clusters in K :\n",
    "    kmeans = KMeans(n_clusters=num_clusters)\n",
    "    kmeans.fit(data_rescaled)\n",
    "    Silhouette_measure.append(silhouette_score(data_rescaled, kmeans.labels_)) \n",
    "plt.plot(K,Silhouette_measure,'bx-')\n",
    "plt.xlabel('Values of K') \n",
    "plt.ylabel('Silhouette measure') \n",
    "plt.title('Оптимальное число кластеров: метод силуэта')\n",
    "plt.show()"
   ]
  },
  {
   "cell_type": "markdown",
   "id": "e73ef104",
   "metadata": {},
   "source": [
    "**Оптимальное значение кластера**: 2 (там максимум функции)\n",
    "\n",
    "Метод Elbow"
   ]
  },
  {
   "cell_type": "code",
   "execution_count": null,
   "id": "2d5069e2",
   "metadata": {},
   "outputs": [],
   "source": [
    "WSS = []  # создаем массив длины 0\n",
    "K = range(2,10)          #какие значения  k рассматриваеются\n",
    "for num_clusters in K :\n",
    "    kmeans = KMeans(n_clusters=num_clusters)\n",
    "    kmeans.fit(data_rescaled)\n",
    "    WSS.append(kmeans.inertia_)\n",
    "plt.plot(K,WSS,'bx-')\n",
    "plt.xlabel('Values of K') \n",
    "plt.ylabel('WSS/Inertia') \n",
    "plt.title('Оптимальное число кластеров: метод Elbow')\n",
    "plt.show()"
   ]
  },
  {
   "cell_type": "markdown",
   "id": "9b30b18d",
   "metadata": {},
   "source": [
    "**Оптимальное количество кластеров**: 4 или 5"
   ]
  }
 ],
 "metadata": {
  "kernelspec": {
   "display_name": "Python 3 (ipykernel)",
   "language": "python",
   "name": "python3"
  },
  "language_info": {
   "codemirror_mode": {
    "name": "ipython",
    "version": 3
   },
   "file_extension": ".py",
   "mimetype": "text/x-python",
   "name": "python",
   "nbconvert_exporter": "python",
   "pygments_lexer": "ipython3",
   "version": "3.9.16"
  }
 },
 "nbformat": 4,
 "nbformat_minor": 5
}
